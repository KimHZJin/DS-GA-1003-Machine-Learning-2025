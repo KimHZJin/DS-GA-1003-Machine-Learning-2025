{
 "cells": [
  {
   "cell_type": "markdown",
   "metadata": {},
   "source": [
    "\n",
    "\n",
    "# Lightning Studio Setup Guide\n",
    "\n",
    "* What is Lightning Studio?\n",
    "\n",
    "* [Why Use Lightning Studio?](https://lightning.ai/docs/overview/studios/)\n",
    "\n",
    "* Installing packages with a simple example\n",
    "\n",
    "# Local Setup Guide\n",
    "\n",
    "Follow these steps to set up your environment locally on macOS.\n",
    "\n",
    "### 1. **Install Visual Studio Code (VSCode)**\n",
    "   - Download and install Visual Studio Code from the official [VSCode Website](https://code.visualstudio.com/).\n",
    "   - **VSCode** is a powerful, lightweight code editor, ideal for Python development and working with notebooks and scripts.\n",
    "\n",
    "### 2. **Install Git**\n",
    "   If you don’t have Git installed yet, follow these steps:\n",
    "   - **Install Git using Homebrew**:\n",
    "     ```bash\n",
    "     brew install git\n",
    "     ```\n",
    "   - **If you don't have Homebrew** installed, run the following command to install it:\n",
    "     ```bash\n",
    "     /bin/bash -c \"$(curl -fsSL https://raw.githubusercontent.com/Homebrew/install/HEAD/install.sh)\"\n",
    "     ```\n",
    "\n",
    "### 3. **Install Required Python Packages**\n",
    "   Ensure you have the necessary Python packages installed. Follow the steps below:\n",
    "\n",
    "   - **Check if `pip3` is installed**:\n",
    "     ```bash\n",
    "     pip3 --version\n",
    "     ```\n",
    "   - If `pip3` is not installed, upgrade it using:\n",
    "     ```bash\n",
    "     python -m ensurepip --upgrade\n",
    "     ```\n",
    "\n",
    "   - **Install `uv` package** (to manage virtual environments):\n",
    "     ```bash\n",
    "     pip3 install uv\n",
    "     ```\n",
    "   - **In case you get an error like \"uv not found\"**:\n",
    "     - Check the installation path of `uv` using:\n",
    "       ```bash\n",
    "       pip3 show uv\n",
    "       ```\n",
    "     - If the path isn’t in your `$PATH`, you need to add it to your `.bashrc`, `.zshrc`, or equivalent shell configuration file. Example:\n",
    "       ```bash\n",
    "       export PATH=$PATH:/Users/divyam/Library/Python/3.9/bin\n",
    "       source .zshrc\n",
    "       ```\n",
    "\n",
    "### 4. **UV Commands**\n",
    "   Use the following `uv` commands to set up and manage your Python virtual environment:\n",
    "\n",
    "   - **Initialize the environment**:\n",
    "     ```bash\n",
    "     uv init\n",
    "     ```\n",
    "   - **Add `ipykernel` as a development dependency**:\n",
    "     ```bash\n",
    "     uv add --dev ipykernel\n",
    "     ```\n",
    "   - **Add dependencies from a `requirements.txt` file**:\n",
    "     ```bash\n",
    "     uv add -r requirements.txt\n",
    "     ```\n",
    "\n",
    "### 5. **Install Numpyro (Exercise)**\n"
   ]
  },
  {
   "cell_type": "code",
   "execution_count": 1,
   "metadata": {},
   "outputs": [],
   "source": [
    "import numpy as np\n",
    "import torch\n",
    "import matplotlib.pyplot as plt"
   ]
  },
  {
   "cell_type": "code",
   "execution_count": null,
   "metadata": {},
   "outputs": [],
   "source": [
    "import numpyro"
   ]
  },
  {
   "cell_type": "code",
   "execution_count": 7,
   "metadata": {},
   "outputs": [],
   "source": [
    "def generate_logic_gate_data(num_samples=100):\n",
    "    inputs = np.random.uniform(-1, 1, size=(num_samples, 2))\n",
    "\n",
    "    outputs_or = np.logical_or(inputs[:, 0] > 0, inputs[:, 1] > 0).astype(int).reshape(-1, 1)   \n",
    "    outputs_xor = np.logical_xor(inputs[:, 0] > 0, inputs[:, 1] > 0).astype(int).reshape(-1, 1) \n",
    "\n",
    "    inputs_tensor = torch.tensor(inputs, dtype=torch.float32)\n",
    "    outputs_or_tensor = torch.tensor(outputs_or, dtype=torch.float32)\n",
    "    outputs_xor_tensor = torch.tensor(outputs_xor, dtype=torch.float32)\n",
    "\n",
    "    return {\n",
    "        \"inputs\": inputs_tensor,\n",
    "        \"outputs_or\": outputs_or_tensor,\n",
    "        \"outputs_xor\": outputs_xor_tensor\n",
    "    }"
   ]
  },
  {
   "cell_type": "code",
   "execution_count": 8,
   "metadata": {},
   "outputs": [],
   "source": [
    "def visualize_logic_gate_data(data):\n",
    "    inputs = data[\"inputs\"].numpy()\n",
    "    outputs_or = data[\"outputs_or\"].numpy()\n",
    "    outputs_xor = data[\"outputs_xor\"].numpy()\n",
    "\n",
    "    fig, axs = plt.subplots(1, 2, figsize=(10, 5))\n",
    "\n",
    "    axs[0].scatter(inputs[:, 0], inputs[:, 1], c=outputs_or.flatten(), cmap='coolwarm', label='OR')\n",
    "    axs[0].set_title('OR Gate')\n",
    "    axs[0].set_xlabel('Input 1')\n",
    "    axs[0].set_ylabel('Input 2')\n",
    "\n",
    "    axs[1].scatter(inputs[:, 0], inputs[:, 1], c=outputs_xor.flatten(), cmap='coolwarm', label='XOR')\n",
    "    axs[1].set_title('XOR Gate')\n",
    "    axs[1].set_xlabel('Input 1')\n",
    "    axs[1].set_ylabel('Input 2')\n",
    "\n",
    "    plt.tight_layout()\n",
    "    plt.show()"
   ]
  },
  {
   "cell_type": "code",
   "execution_count": null,
   "metadata": {},
   "outputs": [],
   "source": [
    "data = generate_logic_gate_data(num_samples=1000)\n",
    "visualize_logic_gate_data(data)"
   ]
  },
  {
   "cell_type": "code",
   "execution_count": null,
   "metadata": {},
   "outputs": [],
   "source": []
  }
 ],
 "metadata": {
  "kernelspec": {
   "display_name": ".venv",
   "language": "python",
   "name": "python3"
  },
  "language_info": {
   "codemirror_mode": {
    "name": "ipython",
    "version": 3
   },
   "file_extension": ".py",
   "mimetype": "text/x-python",
   "name": "python",
   "nbconvert_exporter": "python",
   "pygments_lexer": "ipython3",
   "version": "3.9.6"
  }
 },
 "nbformat": 4,
 "nbformat_minor": 4
}

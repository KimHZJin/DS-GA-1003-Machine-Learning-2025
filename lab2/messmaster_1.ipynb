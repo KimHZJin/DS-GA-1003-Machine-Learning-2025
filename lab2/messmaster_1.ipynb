{
 "cells": [
  {
   "cell_type": "markdown",
   "metadata": {},
   "source": [
    "# MessMaster: The Clean Room Saga (part 1)"
   ]
  },
  {
   "cell_type": "markdown",
   "metadata": {},
   "source": [
    "Welcome to the messiest dorm room in the universe, so messy that it becomes magical and entropy reigns supreme. Your mission is to combat the mess using the power of ML!"
   ]
  },
  {
   "cell_type": "markdown",
   "metadata": {},
   "source": [
    "---\n",
    "## 1. Entering the magical room"
   ]
  },
  {
   "cell_type": "markdown",
   "metadata": {
    "tags": [
     "parameters"
    ]
   },
   "source": [
    "To enter, the mystical door challenges you to define an **'energy function'** in the context of room tidiness. Your quest is to tidy up the room and minimize its energy.\n",
    "\n",
    "Only by answering correctly can you proceed to organize the chaos within.\n",
    "\n",
    "An energy function $e$ assigns a real value to an observed instance of a latent instance $(x,z)$ and is parameterized by a multi-dimension vector $\\theta$.\n",
    "\n",
    "$$e: \\mathcal{X}\\times\\mathcal{Z}\\times\\mathcal{\\Theta}\\mapsto\\mathbb{R}.$$"
   ]
  },
  {
   "cell_type": "markdown",
   "metadata": {},
   "source": [
    "**Q1a**. What does the energy function represent in the context of room tidiness?\n",
    "\n",
    "Answer: It represents how tidy the room is. Lower energy means it's more tidy."
   ]
  },
  {
   "cell_type": "markdown",
   "metadata": {},
   "source": [
    "**Q1b**. Is low energy or high energy state preferred?\n",
    "\n",
    "Answer: Low energy state is preferred because our goal is to minimize the energy."
   ]
  },
  {
   "cell_type": "markdown",
   "metadata": {},
   "source": [
    "**Q1c**. Given some examples of what $x,z,\\theta$ would be in the context of room tidiness.\n",
    "\n",
    "Answer: \n",
    "- Observed instance $x$: stuffs in the room\n",
    "- Latent instance $z$: room owner's cleaning habits\n",
    "- Parameter $\\theta$: personal preference. e.g., one may think books on a bookshelf is tidy, while another person may require them to be alphabetically sorted"
   ]
  },
  {
   "cell_type": "markdown",
   "metadata": {},
   "source": [
    "**Q1d**. The Door heard that you are an expert in telling if a room is tidy or not, based on your previous experience of seeing all kinds of rooms ($x$) and being told whether or not they are messy ($y$). \n",
    "\n",
    "Assume there is no latent variable involved in evaluating room messiness, your energy function for classifying tidy room would take the form $e: (\\mathcal{X}\\times\\mathcal{Y}) \\times \\emptyset \\times \\Theta \\mapsto \\{0,1\\}$\n",
    "\n",
    "Do you agree with the door? If yes, explain why. If no, rewrite it.\n",
    "\n",
    "Answer: No. In the case of binary classification, $\\mathcal{Y}=\\{0,1\\}$, but it does not change the type of the energy. In inference, our classification output would be $\\{0,1\\}$. For energy function, the output type remains $\\mathbb{R}$. \n",
    "\n",
    "The correct form should be $e: (\\mathcal{X}\\times\\mathcal{Y}) \\times \\emptyset \\times \\Theta \\mapsto \\mathbb{R}$, where $\\mathcal{Y}$ can be written as $\\{0,1\\}$."
   ]
  },
  {
   "cell_type": "markdown",
   "metadata": {},
   "source": [
    "**Q1e.** Given your energy function for classifying a tidy room, how would you run inference? i.e., given a new observed room $x'$, how do you infer if it's messy ($y'$) based on your energy function?\n",
    "\n",
    "Answer: $$y'=\\argmin_{y\\in\\mathcal{Y}} e((x',y),\\emptyset,\\theta).$$"
   ]
  },
  {
   "cell_type": "markdown",
   "metadata": {},
   "source": [
    "**Q1f.** Apart from classifying a tidy room, The Door is also interested in giving a room a continuous score of \"tidiness\". What is this problem called in ML and how do we define it as a form of energy learning?\n",
    "\n",
    "Answer: Regression. It's the same as classification, except $\\mathcal{Y}$ is continuous."
   ]
  },
  {
   "cell_type": "markdown",
   "metadata": {},
   "source": [
    "**Q1g**. The Door also wants to infer one's cleaning habits (good v.s. bad). What is this problem called in ML? How do we run inference using energy function?\n",
    "\n",
    "Answer: Clustering. $$z' = \\argmin_{z\\in\\mathcal{Z}} e(x,z,\\theta).$$"
   ]
  },
  {
   "cell_type": "markdown",
   "metadata": {},
   "source": [
    "**Q1h**. The Door heard that what earth humans refer to as \"machine learning\" is usually inferring $\\theta$. Assuming there is no latent variable, how would you write the inference as a minimization of the expected energy?\n",
    "\n",
    "$$\\theta' = \\argmin_{\\theta\\in\\Theta} e(x,\\emptyset,\\theta).$$"
   ]
  },
  {
   "cell_type": "markdown",
   "metadata": {},
   "source": [
    "**Q1i**. What if learning a desirable $\\theta$ is hard and we want to penalize some undesirable outcomes? How does this change our minimization objective and what is this called in ML?\n",
    "\n",
    "Answer: Regularization. $$\\theta' = \\argmin_{\\theta\\in\\Theta} e(x,\\emptyset,\\theta) - R(\\theta).$$"
   ]
  },
  {
   "cell_type": "markdown",
   "metadata": {},
   "source": [
    "---\n"
   ]
  },
  {
   "cell_type": "markdown",
   "metadata": {},
   "source": []
  }
 ],
 "metadata": {
  "kernelspec": {
   "display_name": ".venv",
   "language": "python",
   "name": "python3"
  },
  "language_info": {
   "codemirror_mode": {
    "name": "ipython",
    "version": 3
   },
   "file_extension": ".py",
   "mimetype": "text/x-python",
   "name": "python",
   "nbconvert_exporter": "python",
   "pygments_lexer": "ipython3",
   "version": "3.10.16"
  }
 },
 "nbformat": 4,
 "nbformat_minor": 2
}
